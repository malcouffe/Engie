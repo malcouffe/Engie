{
 "cells": [
  {
   "cell_type": "code",
   "execution_count": 1,
   "metadata": {},
   "outputs": [],
   "source": [
    "import os\n",
    "import s3fs\n",
    "import pandas as pd\n",
    "import torch\n",
    "import torch.nn as nn\n",
    "import torch.optim as optim\n",
    "from torch.utils.data import DataLoader, TensorDataset\n",
    "from sklearn.model_selection import train_test_split\n",
    "from sklearn.preprocessing import StandardScaler\n",
    "import numpy as np\n",
    "import matplotlib.pyplot as plt"
   ]
  },
  {
   "cell_type": "code",
   "execution_count": 2,
   "metadata": {},
   "outputs": [
    {
     "name": "stdout",
     "output_type": "stream",
     "text": [
      "Device utilisé : cuda\n"
     ]
    }
   ],
   "source": []
  },
  {
   "cell_type": "code",
   "execution_count": 3,
   "metadata": {},
   "outputs": [],
   "source": [
    "S3_ENDPOINT_URL = \"https://\" + os.environ['AWS_S3_ENDPOINT']\n",
    "\n",
    "fs = s3fs.S3FileSystem(client_kwargs = {'endpoint_url' : S3_ENDPOINT_URL})\n",
    "\n",
    "BUCKET = \"malcouffe1/Revision\"\n",
    "FILE_KEY_S3 = \"/dataset_clean.csv\"\n",
    "FILE_PATH_S3 = BUCKET + FILE_KEY_S3\n",
    "\n",
    "\n",
    "with fs.open(FILE_PATH_S3, 'rb') as file_in:\n",
    "    df = pd.read_csv(file_in, sep=',')"
   ]
  },
  {
   "cell_type": "code",
   "execution_count": 4,
   "metadata": {},
   "outputs": [],
   "source": [
    "X = df.drop('TARGET', axis=1)\n",
    "y = df['TARGET']"
   ]
  },
  {
   "cell_type": "code",
   "execution_count": 5,
   "metadata": {},
   "outputs": [
    {
     "name": "stdout",
     "output_type": "stream",
     "text": [
      "(122389, 73)\n",
      "(122389,)\n"
     ]
    }
   ],
   "source": [
    "print(X.shape)\n",
    "print(y.shape)"
   ]
  },
  {
   "cell_type": "code",
   "execution_count": 6,
   "metadata": {},
   "outputs": [],
   "source": [
    "# Séparation des données en train (70%), validation (15%) et test (15%)\n",
    "X_train, X_temp, y_train, y_temp = train_test_split(X, y, test_size=0.3, random_state=42)\n",
    "X_val, X_test, y_val, y_test = train_test_split(X_temp, y_temp, test_size=0.5, random_state=42)\n",
    "\n",
    "# Standardisation des features\n",
    "scaler = StandardScaler()\n",
    "X_train = scaler.fit_transform(X_train)\n",
    "X_val = scaler.transform(X_val)\n",
    "X_test = scaler.transform(X_test)\n",
    "\n",
    "# Conversion en tenseurs PyTorch\n",
    "X_train_tensor = torch.tensor(X_train, dtype=torch.float32)\n",
    "X_val_tensor = torch.tensor(X_val, dtype=torch.float32)\n",
    "X_test_tensor = torch.tensor(X_test, dtype=torch.float32)\n",
    "\n",
    "y_train_tensor = torch.tensor(y_train.values, dtype=torch.float32).view(-1, 1)\n",
    "y_val_tensor = torch.tensor(y_val.values, dtype=torch.float32).view(-1, 1)\n",
    "y_test_tensor = torch.tensor(y_test.values, dtype=torch.float32).view(-1, 1)\n",
    "\n",
    "# Chargement dans un DataLoader pour faciliter l'entraînement par batchs\n",
    "batch_size = 512\n",
    "train_dataset = TensorDataset(X_train_tensor, y_train_tensor)\n",
    "val_dataset = TensorDataset(X_val_tensor, y_val_tensor)\n",
    "test_dataset = TensorDataset(X_test_tensor, y_test_tensor)\n",
    "\n",
    "train_loader = DataLoader(train_dataset, batch_size=batch_size, shuffle=True)\n",
    "val_loader = DataLoader(val_dataset, batch_size=batch_size, shuffle=False)\n",
    "test_loader = DataLoader(test_dataset, batch_size=batch_size, shuffle=False)"
   ]
  },
  {
   "cell_type": "code",
   "execution_count": 7,
   "metadata": {},
   "outputs": [],
   "source": [
    "import torch\n",
    "import torch.nn as nn\n",
    "\n",
    "class RegressionModel(nn.Module):\n",
    "    def __init__(self, input_dim):\n",
    "        super(RegressionModel, self).__init__()\n",
    "        self.fc1 = nn.Linear(input_dim, 256)\n",
    "        self.bn1 = nn.BatchNorm1d(256)\n",
    "        self.relu = nn.ReLU()\n",
    "        self.dropout = nn.Dropout(0.3)\n",
    "\n",
    "        self.fc2 = nn.Linear(256, 128)\n",
    "        self.bn2 = nn.BatchNorm1d(128)\n",
    "\n",
    "        self.fc3 = nn.Linear(128, 64)\n",
    "        self.bn3 = nn.BatchNorm1d(64)\n",
    "\n",
    "        self.fc4 = nn.Linear(64, 32)\n",
    "        self.bn4 = nn.BatchNorm1d(32)\n",
    "\n",
    "        self.fc5 = nn.Linear(32, 16)\n",
    "        self.fc6 = nn.Linear(16, 1)  # Pas d'activation finale pour une sortie en régression\n",
    "\n",
    "    def forward(self, x):\n",
    "        x = self.relu(self.bn1(self.fc1(x)))\n",
    "        x = self.dropout(x)\n",
    "        x = self.relu(self.bn2(self.fc2(x)))\n",
    "        x = self.dropout(x)\n",
    "        x = self.relu(self.bn3(self.fc3(x)))\n",
    "        x = self.dropout(x)\n",
    "        x = self.relu(self.bn4(self.fc4(x)))\n",
    "        x = self.relu(self.fc5(x))\n",
    "        x = self.fc6(x)\n",
    "        return x\n",
    "\n",
    "# Initialisation du modèle avec le bon input_dim\n",
    "input_dim = X_train.shape[1]\n",
    "model = RegressionModel(input_dim).to(device)\n"
   ]
  },
  {
   "cell_type": "code",
   "execution_count": 8,
   "metadata": {},
   "outputs": [],
   "source": [
    "criterion = nn.MSELoss()  # Mean Squared Error (MSE) pour la régression\n",
    "optimizer = optim.Adam(model.parameters(), lr=0.001, weight_decay=1e-4)"
   ]
  },
  {
   "cell_type": "code",
   "execution_count": 9,
   "metadata": {},
   "outputs": [
    {
     "name": "stdout",
     "output_type": "stream",
     "text": [
      "Epoch 1/100 - Train Loss: 460565.7083 - Val Loss: 431330.7674\n",
      "Epoch 2/100 - Train Loss: 380695.6390 - Val Loss: 303315.7856\n",
      "Epoch 3/100 - Train Loss: 208551.5299 - Val Loss: 120666.2661\n",
      "Epoch 4/100 - Train Loss: 57553.2593 - Val Loss: 17829.0684\n",
      "Epoch 5/100 - Train Loss: 13320.1865 - Val Loss: 7290.4464\n",
      "Epoch 6/100 - Train Loss: 9197.0719 - Val Loss: 3549.1813\n",
      "Epoch 7/100 - Train Loss: 8216.4335 - Val Loss: 2954.9711\n",
      "Epoch 8/100 - Train Loss: 7904.2229 - Val Loss: 3547.8076\n",
      "Epoch 9/100 - Train Loss: 7387.2000 - Val Loss: 2701.3379\n",
      "Epoch 10/100 - Train Loss: 6805.0380 - Val Loss: 2849.5751\n",
      "Epoch 11/100 - Train Loss: 6510.4233 - Val Loss: 2306.5541\n",
      "Epoch 12/100 - Train Loss: 6332.8488 - Val Loss: 2280.3008\n",
      "Epoch 13/100 - Train Loss: 6325.5689 - Val Loss: 2459.1053\n",
      "Epoch 14/100 - Train Loss: 6444.8206 - Val Loss: 2109.5516\n",
      "Epoch 15/100 - Train Loss: 6127.6862 - Val Loss: 1936.8229\n",
      "Epoch 16/100 - Train Loss: 6114.9344 - Val Loss: 1967.5691\n",
      "Epoch 17/100 - Train Loss: 5803.0309 - Val Loss: 2193.3573\n",
      "Epoch 18/100 - Train Loss: 5753.0949 - Val Loss: 2322.3008\n",
      "Epoch 19/100 - Train Loss: 5842.0479 - Val Loss: 1966.3286\n",
      "Epoch 20/100 - Train Loss: 5871.6566 - Val Loss: 2033.8317\n",
      "Epoch 21/100 - Train Loss: 5477.4387 - Val Loss: 2730.3801\n",
      "Epoch 22/100 - Train Loss: 5417.3481 - Val Loss: 2002.8054\n",
      "Epoch 23/100 - Train Loss: 5594.2944 - Val Loss: 1901.7841\n",
      "Epoch 24/100 - Train Loss: 5442.0373 - Val Loss: 1977.9275\n",
      "Epoch 25/100 - Train Loss: 5422.2861 - Val Loss: 1870.0518\n",
      "Epoch 26/100 - Train Loss: 5070.6299 - Val Loss: 2307.5209\n",
      "Epoch 27/100 - Train Loss: 5220.9267 - Val Loss: 1935.8854\n",
      "Epoch 28/100 - Train Loss: 5244.2828 - Val Loss: 1839.5552\n",
      "Epoch 29/100 - Train Loss: 5232.5857 - Val Loss: 1908.5930\n",
      "Epoch 30/100 - Train Loss: 5061.4488 - Val Loss: 1882.7217\n",
      "Epoch 31/100 - Train Loss: 5129.6672 - Val Loss: 1893.7618\n",
      "Epoch 32/100 - Train Loss: 5195.7937 - Val Loss: 2018.2134\n",
      "Epoch 33/100 - Train Loss: 5055.4017 - Val Loss: 1894.7810\n",
      "Epoch 34/100 - Train Loss: 4910.7258 - Val Loss: 1843.4953\n",
      "Epoch 35/100 - Train Loss: 4950.0789 - Val Loss: 1905.8406\n",
      "Epoch 36/100 - Train Loss: 4828.5423 - Val Loss: 1868.6732\n",
      "Epoch 37/100 - Train Loss: 4878.8395 - Val Loss: 2147.2423\n",
      "Epoch 38/100 - Train Loss: 4928.0629 - Val Loss: 1717.4345\n",
      "Epoch 39/100 - Train Loss: 4753.7456 - Val Loss: 1692.1338\n",
      "Epoch 40/100 - Train Loss: 4779.9090 - Val Loss: 1849.4353\n",
      "Epoch 41/100 - Train Loss: 4685.3414 - Val Loss: 1864.6276\n",
      "Epoch 42/100 - Train Loss: 4588.7388 - Val Loss: 1766.8343\n",
      "Epoch 43/100 - Train Loss: 4515.6008 - Val Loss: 1716.5392\n",
      "Epoch 44/100 - Train Loss: 4735.5934 - Val Loss: 1802.9029\n",
      "Epoch 45/100 - Train Loss: 4467.2688 - Val Loss: 1793.2865\n",
      "Epoch 46/100 - Train Loss: 4372.7141 - Val Loss: 1625.0450\n",
      "Epoch 47/100 - Train Loss: 4509.2556 - Val Loss: 1728.7730\n",
      "Epoch 48/100 - Train Loss: 4401.2420 - Val Loss: 1701.6851\n",
      "Epoch 49/100 - Train Loss: 4431.3489 - Val Loss: 1745.9697\n",
      "Epoch 50/100 - Train Loss: 4290.1986 - Val Loss: 1920.1480\n",
      "Epoch 51/100 - Train Loss: 4334.0289 - Val Loss: 1834.0188\n",
      "Epoch 52/100 - Train Loss: 4208.1247 - Val Loss: 1602.5721\n",
      "Epoch 53/100 - Train Loss: 4161.3200 - Val Loss: 1715.7867\n",
      "Epoch 54/100 - Train Loss: 4178.3393 - Val Loss: 1523.0745\n",
      "Epoch 55/100 - Train Loss: 4137.3204 - Val Loss: 2076.2892\n",
      "Epoch 56/100 - Train Loss: 4176.5532 - Val Loss: 1577.9152\n",
      "Epoch 57/100 - Train Loss: 4119.2532 - Val Loss: 1852.5454\n",
      "Epoch 58/100 - Train Loss: 4032.9809 - Val Loss: 1588.7895\n",
      "Epoch 59/100 - Train Loss: 3955.0173 - Val Loss: 1612.7899\n",
      "Epoch 60/100 - Train Loss: 4081.9785 - Val Loss: 1875.1824\n",
      "Epoch 61/100 - Train Loss: 3950.8343 - Val Loss: 1544.5795\n",
      "Epoch 62/100 - Train Loss: 3743.9622 - Val Loss: 1538.7974\n",
      "Epoch 63/100 - Train Loss: 3673.1034 - Val Loss: 1546.5982\n",
      "Epoch 64/100 - Train Loss: 3608.4468 - Val Loss: 1546.0284\n",
      "❌ Early stopping triggered. Training stopped.\n",
      "✅ Best model loaded.\n"
     ]
    }
   ],
   "source": [
    "num_epochs = 100\n",
    "patience = 10  # Nombre d'époques sans amélioration avant arrêt\n",
    "best_val_loss = float(\"inf\")\n",
    "counter = 0  # Compteur d'époques sans amélioration\n",
    "\n",
    "train_losses = []\n",
    "val_losses = []\n",
    "\n",
    "for epoch in range(num_epochs):\n",
    "    model.train()\n",
    "    train_loss = 0.0\n",
    "    \n",
    "    for X_batch, y_batch in train_loader:\n",
    "        X_batch, y_batch = X_batch.to(device), y_batch.to(device)  # Déplacement sur GPU\n",
    "        optimizer.zero_grad()\n",
    "        y_pred = model(X_batch)\n",
    "        loss = criterion(y_pred, y_batch)\n",
    "        loss.backward()\n",
    "        optimizer.step()\n",
    "        train_loss += loss.item()\n",
    "    \n",
    "    train_loss /= len(train_loader)\n",
    "    train_losses.append(train_loss)\n",
    "\n",
    "    # Évaluation sur l'ensemble de validation\n",
    "    model.eval()\n",
    "    val_loss = 0.0\n",
    "\n",
    "    with torch.no_grad():\n",
    "        for X_batch, y_batch in val_loader:\n",
    "            X_batch, y_batch = X_batch.to(device), y_batch.to(device)  # Déplacement sur GPU\n",
    "            y_pred = model(X_batch)\n",
    "            loss = criterion(y_pred, y_batch)\n",
    "            val_loss += loss.item()\n",
    "\n",
    "    val_loss /= len(val_loader)\n",
    "    val_losses.append(val_loss)\n",
    "    print(f\"Epoch {epoch+1}/{num_epochs} - Train Loss: {train_loss:.4f} - Val Loss: {val_loss:.4f}\")\n",
    "\n",
    "    # 🔹 Early Stopping : Vérification de l'amélioration de la validation loss\n",
    "    if val_loss < best_val_loss:\n",
    "        best_val_loss = val_loss\n",
    "        counter = 0\n",
    "        best_model_state = model.state_dict()  # Sauvegarde du meilleur modèle\n",
    "    else:\n",
    "        counter += 1\n",
    "        if counter >= patience:\n",
    "            print(\"❌ Early stopping triggered. Training stopped.\")\n",
    "            break\n",
    "\n",
    "# 📌 Charger le meilleur modèle trouvé\n",
    "model.load_state_dict(best_model_state)\n",
    "print(\"✅ Best model loaded.\")"
   ]
  },
  {
   "cell_type": "code",
   "execution_count": 10,
   "metadata": {},
   "outputs": [
    {
     "name": "stdout",
     "output_type": "stream",
     "text": [
      "📊 Test Loss: 1448.5581 - Mean Absolute Error (MAE): 22.5970\n"
     ]
    }
   ],
   "source": [
    "# 🔹 Évaluation sur l'ensemble de test\n",
    "model.eval()\n",
    "test_loss = 0.0\n",
    "y_pred_list = []\n",
    "y_true_list = []\n",
    "\n",
    "with torch.no_grad():\n",
    "    for X_batch, y_batch in test_loader:\n",
    "        X_batch, y_batch = X_batch.to(device), y_batch.to(device)  # Déplacement sur GPU\n",
    "        y_pred = model(X_batch)\n",
    "        loss = criterion(y_pred, y_batch)\n",
    "        test_loss += loss.item()\n",
    "\n",
    "        # Stocker les prédictions et vraies valeurs\n",
    "        y_pred_list.append(y_pred.cpu().numpy())\n",
    "        y_true_list.append(y_batch.cpu().numpy())\n",
    "\n",
    "test_loss /= len(test_loader)\n",
    "\n",
    "# 🔹 Convertir les résultats en numpy arrays\n",
    "y_pred = np.vstack(y_pred_list)  # Concaténation des batches\n",
    "y_true = np.vstack(y_true_list)\n",
    "\n",
    "# 🔹 Calculer l'erreur absolue moyenne (MAE)\n",
    "mae = np.mean(np.abs(y_pred - y_true))\n",
    "print(f\"📊 Test Loss: {test_loss:.4f} - Mean Absolute Error (MAE): {mae:.4f}\")"
   ]
  },
  {
   "cell_type": "code",
   "execution_count": 11,
   "metadata": {},
   "outputs": [
    {
     "data": {
      "image/png": "[encoded data removed]",
      "text/plain": [
       "<Figure size 640x480 with 1 Axes>"
      ]
     },
     "metadata": {},
     "output_type": "display_data"
    },
    {
     "data": {
      "image/png": "[encoded data removed]",
      "text/plain": [
       "<Figure size 640x480 with 1 Axes>"
      ]
     },
     "metadata": {},
     "output_type": "display_data"
    }
   ],
   "source": [
    "# Courbes de perte\n",
    "plt.plot(train_losses, label=\"Train Loss\")\n",
    "plt.plot(val_losses, label=\"Validation Loss\")\n",
    "plt.xlabel(\"Epochs\")\n",
    "plt.ylabel(\"Loss\")\n",
    "plt.legend()\n",
    "plt.show()\n",
    "\n",
    "# Comparaison entre valeurs réelles et prédictions\n",
    "plt.scatter(y_true, y_pred)\n",
    "plt.xlabel(\"Valeurs Réelles\")\n",
    "plt.ylabel(\"Prédictions\")\n",
    "plt.title(\"Comparaison entre Prédictions et Réalité\")\n",
    "plt.show()\n"
   ]
  }
 ],
 "metadata": {
  "kernelspec": {
   "display_name": ".venv",
   "language": "python",
   "name": "python3"
  },
  "language_info": {
   "codemirror_mode": {
    "name": "ipython",
    "version": 3
   },
   "file_extension": ".py",
   "mimetype": "text/x-python",
   "name": "python",
   "nbconvert_exporter": "python",
   "pygments_lexer": "ipython3",
   "version": "3.10.12"
  }
 },
 "nbformat": 4,
 "nbformat_minor": 2
}
